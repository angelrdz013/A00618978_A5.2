{
  "nbformat": 4,
  "nbformat_minor": 0,
  "metadata": {
    "colab": {
      "provenance": [],
      "collapsed_sections": [
        "AUxxkjE6shkH",
        "a08Di3GjkL1Y",
        "LckYCS8SlnFo",
        "qQx2lbzTkEsQ",
        "ocmGcSC2j_2x",
        "zb5bE4WJj8Rw",
        "urAFNUyMjodn",
        "B9i2CrLJs-1m",
        "UJokj9Diyeu0",
        "hZxyRbHL0gNF",
        "DyzIjcVAF6Y7",
        "CGRvZ5QmBU5P",
        "4JkGo57zMXqn",
        "TPOqRS7pNCNH",
        "HowUdsf7MqIJ",
        "hDV5EpEIRsy4",
        "PORgZ7b_WTq-",
        "slDkvQ37Wtst",
        "tTVcDuaUXG5N",
        "AeTAcfFKX3Sm"
      ]
    },
    "kernelspec": {
      "name": "python3",
      "display_name": "Python 3"
    },
    "language_info": {
      "name": "python"
    }
  },
  "cells": [
    {
      "cell_type": "markdown",
      "source": [
        "#**Maestría en Inteligencia Artificial Aplicada**\n",
        "\n",
        "##**Curso: Inteligencia Artificial y Aprendizaje Automático**\n",
        "\n",
        "###Tecnológico de Monterrey\n",
        "\n",
        "###Prof Luis Eduardo Falcón Morales\n",
        "\n",
        "## **Adtividad de las Semanas 5 y 6**\n",
        "###**Problema de asignación de créditos: South German Dataset.**"
      ],
      "metadata": {
        "id": "dBbWMn9ebmi8"
      }
    },
    {
      "cell_type": "markdown",
      "source": [
        "## **Nombre y matrícula:**\n",
        "Angel Rodriguez Cardenas\n",
        "A00618978"
      ],
      "metadata": {
        "id": "YiwEw8XsZG2W"
      }
    },
    {
      "cell_type": "markdown",
      "source": [
        "# **Parte I: Partición, análisis y pre-procesamiento de los datos.**"
      ],
      "metadata": {
        "id": "AUxxkjE6shkH"
      }
    },
    {
      "cell_type": "markdown",
      "source": [
        "## **Ejercicio 1**"
      ],
      "metadata": {
        "id": "a08Di3GjkL1Y"
      }
    },
    {
      "cell_type": "code",
      "execution_count": 17,
      "metadata": {
        "id": "6VGEpE4SblfD"
      },
      "outputs": [],
      "source": [
        "# Aquí deberás incluir todas las librerías que requieras durante esta actividad:\n",
        "import warnings\n",
        "warnings.filterwarnings('ignore')\n",
        "import pandas as pd\n",
        "from sklearn.model_selection import train_test_split\n",
        "from sklearn.pipeline import Pipeline\n",
        "from sklearn.preprocessing import StandardScaler, OneHotEncoder\n",
        "import numpy as np\n",
        "import matplotlib.pyplot as plt\n",
        "import seaborn as sns\n",
        "from sklearn.compose import ColumnTransformer\n",
        "from sklearn.preprocessing import LabelEncoder"
      ]
    },
    {
      "cell_type": "code",
      "source": [
        "# Cargamos los datos:\n",
        "from google.colab import files\n",
        "uploaded = files.upload()\n",
        "df = pd.read_csv(\"SouthGermanCredit.asc\",sep=' ')\n",
        "print(df.shape)\n",
        "df.head(3)"
      ],
      "metadata": {
        "id": "RriCpzMBb2mr",
        "colab": {
          "base_uri": "https://localhost:8080/",
          "height": 267
        },
        "outputId": "40606567-c1f8-43de-dd18-d12af4d804ad"
      },
      "execution_count": 11,
      "outputs": [
        {
          "output_type": "display_data",
          "data": {
            "text/plain": [
              "<IPython.core.display.HTML object>"
            ],
            "text/html": [
              "\n",
              "     <input type=\"file\" id=\"files-b0e65e1f-8899-46a6-8ea9-a0d5b08f15c9\" name=\"files[]\" multiple disabled\n",
              "        style=\"border:none\" />\n",
              "     <output id=\"result-b0e65e1f-8899-46a6-8ea9-a0d5b08f15c9\">\n",
              "      Upload widget is only available when the cell has been executed in the\n",
              "      current browser session. Please rerun this cell to enable.\n",
              "      </output>\n",
              "      <script>// Copyright 2017 Google LLC\n",
              "//\n",
              "// Licensed under the Apache License, Version 2.0 (the \"License\");\n",
              "// you may not use this file except in compliance with the License.\n",
              "// You may obtain a copy of the License at\n",
              "//\n",
              "//      http://www.apache.org/licenses/LICENSE-2.0\n",
              "//\n",
              "// Unless required by applicable law or agreed to in writing, software\n",
              "// distributed under the License is distributed on an \"AS IS\" BASIS,\n",
              "// WITHOUT WARRANTIES OR CONDITIONS OF ANY KIND, either express or implied.\n",
              "// See the License for the specific language governing permissions and\n",
              "// limitations under the License.\n",
              "\n",
              "/**\n",
              " * @fileoverview Helpers for google.colab Python module.\n",
              " */\n",
              "(function(scope) {\n",
              "function span(text, styleAttributes = {}) {\n",
              "  const element = document.createElement('span');\n",
              "  element.textContent = text;\n",
              "  for (const key of Object.keys(styleAttributes)) {\n",
              "    element.style[key] = styleAttributes[key];\n",
              "  }\n",
              "  return element;\n",
              "}\n",
              "\n",
              "// Max number of bytes which will be uploaded at a time.\n",
              "const MAX_PAYLOAD_SIZE = 100 * 1024;\n",
              "\n",
              "function _uploadFiles(inputId, outputId) {\n",
              "  const steps = uploadFilesStep(inputId, outputId);\n",
              "  const outputElement = document.getElementById(outputId);\n",
              "  // Cache steps on the outputElement to make it available for the next call\n",
              "  // to uploadFilesContinue from Python.\n",
              "  outputElement.steps = steps;\n",
              "\n",
              "  return _uploadFilesContinue(outputId);\n",
              "}\n",
              "\n",
              "// This is roughly an async generator (not supported in the browser yet),\n",
              "// where there are multiple asynchronous steps and the Python side is going\n",
              "// to poll for completion of each step.\n",
              "// This uses a Promise to block the python side on completion of each step,\n",
              "// then passes the result of the previous step as the input to the next step.\n",
              "function _uploadFilesContinue(outputId) {\n",
              "  const outputElement = document.getElementById(outputId);\n",
              "  const steps = outputElement.steps;\n",
              "\n",
              "  const next = steps.next(outputElement.lastPromiseValue);\n",
              "  return Promise.resolve(next.value.promise).then((value) => {\n",
              "    // Cache the last promise value to make it available to the next\n",
              "    // step of the generator.\n",
              "    outputElement.lastPromiseValue = value;\n",
              "    return next.value.response;\n",
              "  });\n",
              "}\n",
              "\n",
              "/**\n",
              " * Generator function which is called between each async step of the upload\n",
              " * process.\n",
              " * @param {string} inputId Element ID of the input file picker element.\n",
              " * @param {string} outputId Element ID of the output display.\n",
              " * @return {!Iterable<!Object>} Iterable of next steps.\n",
              " */\n",
              "function* uploadFilesStep(inputId, outputId) {\n",
              "  const inputElement = document.getElementById(inputId);\n",
              "  inputElement.disabled = false;\n",
              "\n",
              "  const outputElement = document.getElementById(outputId);\n",
              "  outputElement.innerHTML = '';\n",
              "\n",
              "  const pickedPromise = new Promise((resolve) => {\n",
              "    inputElement.addEventListener('change', (e) => {\n",
              "      resolve(e.target.files);\n",
              "    });\n",
              "  });\n",
              "\n",
              "  const cancel = document.createElement('button');\n",
              "  inputElement.parentElement.appendChild(cancel);\n",
              "  cancel.textContent = 'Cancel upload';\n",
              "  const cancelPromise = new Promise((resolve) => {\n",
              "    cancel.onclick = () => {\n",
              "      resolve(null);\n",
              "    };\n",
              "  });\n",
              "\n",
              "  // Wait for the user to pick the files.\n",
              "  const files = yield {\n",
              "    promise: Promise.race([pickedPromise, cancelPromise]),\n",
              "    response: {\n",
              "      action: 'starting',\n",
              "    }\n",
              "  };\n",
              "\n",
              "  cancel.remove();\n",
              "\n",
              "  // Disable the input element since further picks are not allowed.\n",
              "  inputElement.disabled = true;\n",
              "\n",
              "  if (!files) {\n",
              "    return {\n",
              "      response: {\n",
              "        action: 'complete',\n",
              "      }\n",
              "    };\n",
              "  }\n",
              "\n",
              "  for (const file of files) {\n",
              "    const li = document.createElement('li');\n",
              "    li.append(span(file.name, {fontWeight: 'bold'}));\n",
              "    li.append(span(\n",
              "        `(${file.type || 'n/a'}) - ${file.size} bytes, ` +\n",
              "        `last modified: ${\n",
              "            file.lastModifiedDate ? file.lastModifiedDate.toLocaleDateString() :\n",
              "                                    'n/a'} - `));\n",
              "    const percent = span('0% done');\n",
              "    li.appendChild(percent);\n",
              "\n",
              "    outputElement.appendChild(li);\n",
              "\n",
              "    const fileDataPromise = new Promise((resolve) => {\n",
              "      const reader = new FileReader();\n",
              "      reader.onload = (e) => {\n",
              "        resolve(e.target.result);\n",
              "      };\n",
              "      reader.readAsArrayBuffer(file);\n",
              "    });\n",
              "    // Wait for the data to be ready.\n",
              "    let fileData = yield {\n",
              "      promise: fileDataPromise,\n",
              "      response: {\n",
              "        action: 'continue',\n",
              "      }\n",
              "    };\n",
              "\n",
              "    // Use a chunked sending to avoid message size limits. See b/62115660.\n",
              "    let position = 0;\n",
              "    do {\n",
              "      const length = Math.min(fileData.byteLength - position, MAX_PAYLOAD_SIZE);\n",
              "      const chunk = new Uint8Array(fileData, position, length);\n",
              "      position += length;\n",
              "\n",
              "      const base64 = btoa(String.fromCharCode.apply(null, chunk));\n",
              "      yield {\n",
              "        response: {\n",
              "          action: 'append',\n",
              "          file: file.name,\n",
              "          data: base64,\n",
              "        },\n",
              "      };\n",
              "\n",
              "      let percentDone = fileData.byteLength === 0 ?\n",
              "          100 :\n",
              "          Math.round((position / fileData.byteLength) * 100);\n",
              "      percent.textContent = `${percentDone}% done`;\n",
              "\n",
              "    } while (position < fileData.byteLength);\n",
              "  }\n",
              "\n",
              "  // All done.\n",
              "  yield {\n",
              "    response: {\n",
              "      action: 'complete',\n",
              "    }\n",
              "  };\n",
              "}\n",
              "\n",
              "scope.google = scope.google || {};\n",
              "scope.google.colab = scope.google.colab || {};\n",
              "scope.google.colab._files = {\n",
              "  _uploadFiles,\n",
              "  _uploadFilesContinue,\n",
              "};\n",
              "})(self);\n",
              "</script> "
            ]
          },
          "metadata": {}
        },
        {
          "output_type": "stream",
          "name": "stdout",
          "text": [
            "Saving SouthGermanCredit.asc to SouthGermanCredit (1).asc\n",
            "(1000, 21)\n"
          ]
        },
        {
          "output_type": "execute_result",
          "data": {
            "text/plain": [
              "   laufkont  laufzeit  moral  verw  hoehe  sparkont  beszeit  rate  famges  \\\n",
              "0         1        18      4     2   1049         1        2     4       2   \n",
              "1         1         9      4     0   2799         1        3     2       3   \n",
              "2         2        12      2     9    841         2        4     2       2   \n",
              "\n",
              "   buerge  ...  verm  alter  weitkred  wohn  bishkred  beruf  pers  telef  \\\n",
              "0       1  ...     2     21         3     1         1      3     2      1   \n",
              "1       1  ...     1     36         3     1         2      3     1      1   \n",
              "2       1  ...     1     23         3     1         1      2     2      1   \n",
              "\n",
              "   gastarb  kredit  \n",
              "0        2       1  \n",
              "1        2       1  \n",
              "2        2       1  \n",
              "\n",
              "[3 rows x 21 columns]"
            ],
            "text/html": [
              "\n",
              "  <div id=\"df-41cd35a8-3f4b-43a5-ba5b-cf8d886b6000\" class=\"colab-df-container\">\n",
              "    <div>\n",
              "<style scoped>\n",
              "    .dataframe tbody tr th:only-of-type {\n",
              "        vertical-align: middle;\n",
              "    }\n",
              "\n",
              "    .dataframe tbody tr th {\n",
              "        vertical-align: top;\n",
              "    }\n",
              "\n",
              "    .dataframe thead th {\n",
              "        text-align: right;\n",
              "    }\n",
              "</style>\n",
              "<table border=\"1\" class=\"dataframe\">\n",
              "  <thead>\n",
              "    <tr style=\"text-align: right;\">\n",
              "      <th></th>\n",
              "      <th>laufkont</th>\n",
              "      <th>laufzeit</th>\n",
              "      <th>moral</th>\n",
              "      <th>verw</th>\n",
              "      <th>hoehe</th>\n",
              "      <th>sparkont</th>\n",
              "      <th>beszeit</th>\n",
              "      <th>rate</th>\n",
              "      <th>famges</th>\n",
              "      <th>buerge</th>\n",
              "      <th>...</th>\n",
              "      <th>verm</th>\n",
              "      <th>alter</th>\n",
              "      <th>weitkred</th>\n",
              "      <th>wohn</th>\n",
              "      <th>bishkred</th>\n",
              "      <th>beruf</th>\n",
              "      <th>pers</th>\n",
              "      <th>telef</th>\n",
              "      <th>gastarb</th>\n",
              "      <th>kredit</th>\n",
              "    </tr>\n",
              "  </thead>\n",
              "  <tbody>\n",
              "    <tr>\n",
              "      <th>0</th>\n",
              "      <td>1</td>\n",
              "      <td>18</td>\n",
              "      <td>4</td>\n",
              "      <td>2</td>\n",
              "      <td>1049</td>\n",
              "      <td>1</td>\n",
              "      <td>2</td>\n",
              "      <td>4</td>\n",
              "      <td>2</td>\n",
              "      <td>1</td>\n",
              "      <td>...</td>\n",
              "      <td>2</td>\n",
              "      <td>21</td>\n",
              "      <td>3</td>\n",
              "      <td>1</td>\n",
              "      <td>1</td>\n",
              "      <td>3</td>\n",
              "      <td>2</td>\n",
              "      <td>1</td>\n",
              "      <td>2</td>\n",
              "      <td>1</td>\n",
              "    </tr>\n",
              "    <tr>\n",
              "      <th>1</th>\n",
              "      <td>1</td>\n",
              "      <td>9</td>\n",
              "      <td>4</td>\n",
              "      <td>0</td>\n",
              "      <td>2799</td>\n",
              "      <td>1</td>\n",
              "      <td>3</td>\n",
              "      <td>2</td>\n",
              "      <td>3</td>\n",
              "      <td>1</td>\n",
              "      <td>...</td>\n",
              "      <td>1</td>\n",
              "      <td>36</td>\n",
              "      <td>3</td>\n",
              "      <td>1</td>\n",
              "      <td>2</td>\n",
              "      <td>3</td>\n",
              "      <td>1</td>\n",
              "      <td>1</td>\n",
              "      <td>2</td>\n",
              "      <td>1</td>\n",
              "    </tr>\n",
              "    <tr>\n",
              "      <th>2</th>\n",
              "      <td>2</td>\n",
              "      <td>12</td>\n",
              "      <td>2</td>\n",
              "      <td>9</td>\n",
              "      <td>841</td>\n",
              "      <td>2</td>\n",
              "      <td>4</td>\n",
              "      <td>2</td>\n",
              "      <td>2</td>\n",
              "      <td>1</td>\n",
              "      <td>...</td>\n",
              "      <td>1</td>\n",
              "      <td>23</td>\n",
              "      <td>3</td>\n",
              "      <td>1</td>\n",
              "      <td>1</td>\n",
              "      <td>2</td>\n",
              "      <td>2</td>\n",
              "      <td>1</td>\n",
              "      <td>2</td>\n",
              "      <td>1</td>\n",
              "    </tr>\n",
              "  </tbody>\n",
              "</table>\n",
              "<p>3 rows × 21 columns</p>\n",
              "</div>\n",
              "    <div class=\"colab-df-buttons\">\n",
              "\n",
              "  <div class=\"colab-df-container\">\n",
              "    <button class=\"colab-df-convert\" onclick=\"convertToInteractive('df-41cd35a8-3f4b-43a5-ba5b-cf8d886b6000')\"\n",
              "            title=\"Convert this dataframe to an interactive table.\"\n",
              "            style=\"display:none;\">\n",
              "\n",
              "  <svg xmlns=\"http://www.w3.org/2000/svg\" height=\"24px\" viewBox=\"0 -960 960 960\">\n",
              "    <path d=\"M120-120v-720h720v720H120Zm60-500h600v-160H180v160Zm220 220h160v-160H400v160Zm0 220h160v-160H400v160ZM180-400h160v-160H180v160Zm440 0h160v-160H620v160ZM180-180h160v-160H180v160Zm440 0h160v-160H620v160Z\"/>\n",
              "  </svg>\n",
              "    </button>\n",
              "\n",
              "  <style>\n",
              "    .colab-df-container {\n",
              "      display:flex;\n",
              "      gap: 12px;\n",
              "    }\n",
              "\n",
              "    .colab-df-convert {\n",
              "      background-color: #E8F0FE;\n",
              "      border: none;\n",
              "      border-radius: 50%;\n",
              "      cursor: pointer;\n",
              "      display: none;\n",
              "      fill: #1967D2;\n",
              "      height: 32px;\n",
              "      padding: 0 0 0 0;\n",
              "      width: 32px;\n",
              "    }\n",
              "\n",
              "    .colab-df-convert:hover {\n",
              "      background-color: #E2EBFA;\n",
              "      box-shadow: 0px 1px 2px rgba(60, 64, 67, 0.3), 0px 1px 3px 1px rgba(60, 64, 67, 0.15);\n",
              "      fill: #174EA6;\n",
              "    }\n",
              "\n",
              "    .colab-df-buttons div {\n",
              "      margin-bottom: 4px;\n",
              "    }\n",
              "\n",
              "    [theme=dark] .colab-df-convert {\n",
              "      background-color: #3B4455;\n",
              "      fill: #D2E3FC;\n",
              "    }\n",
              "\n",
              "    [theme=dark] .colab-df-convert:hover {\n",
              "      background-color: #434B5C;\n",
              "      box-shadow: 0px 1px 3px 1px rgba(0, 0, 0, 0.15);\n",
              "      filter: drop-shadow(0px 1px 2px rgba(0, 0, 0, 0.3));\n",
              "      fill: #FFFFFF;\n",
              "    }\n",
              "  </style>\n",
              "\n",
              "    <script>\n",
              "      const buttonEl =\n",
              "        document.querySelector('#df-41cd35a8-3f4b-43a5-ba5b-cf8d886b6000 button.colab-df-convert');\n",
              "      buttonEl.style.display =\n",
              "        google.colab.kernel.accessAllowed ? 'block' : 'none';\n",
              "\n",
              "      async function convertToInteractive(key) {\n",
              "        const element = document.querySelector('#df-41cd35a8-3f4b-43a5-ba5b-cf8d886b6000');\n",
              "        const dataTable =\n",
              "          await google.colab.kernel.invokeFunction('convertToInteractive',\n",
              "                                                    [key], {});\n",
              "        if (!dataTable) return;\n",
              "\n",
              "        const docLinkHtml = 'Like what you see? Visit the ' +\n",
              "          '<a target=\"_blank\" href=https://colab.research.google.com/notebooks/data_table.ipynb>data table notebook</a>'\n",
              "          + ' to learn more about interactive tables.';\n",
              "        element.innerHTML = '';\n",
              "        dataTable['output_type'] = 'display_data';\n",
              "        await google.colab.output.renderOutput(dataTable, element);\n",
              "        const docLink = document.createElement('div');\n",
              "        docLink.innerHTML = docLinkHtml;\n",
              "        element.appendChild(docLink);\n",
              "      }\n",
              "    </script>\n",
              "  </div>\n",
              "\n",
              "\n",
              "<div id=\"df-3c258189-3142-48e5-81b0-a6842bc5d608\">\n",
              "  <button class=\"colab-df-quickchart\" onclick=\"quickchart('df-3c258189-3142-48e5-81b0-a6842bc5d608')\"\n",
              "            title=\"Suggest charts\"\n",
              "            style=\"display:none;\">\n",
              "\n",
              "<svg xmlns=\"http://www.w3.org/2000/svg\" height=\"24px\"viewBox=\"0 0 24 24\"\n",
              "     width=\"24px\">\n",
              "    <g>\n",
              "        <path d=\"M19 3H5c-1.1 0-2 .9-2 2v14c0 1.1.9 2 2 2h14c1.1 0 2-.9 2-2V5c0-1.1-.9-2-2-2zM9 17H7v-7h2v7zm4 0h-2V7h2v10zm4 0h-2v-4h2v4z\"/>\n",
              "    </g>\n",
              "</svg>\n",
              "  </button>\n",
              "\n",
              "<style>\n",
              "  .colab-df-quickchart {\n",
              "      --bg-color: #E8F0FE;\n",
              "      --fill-color: #1967D2;\n",
              "      --hover-bg-color: #E2EBFA;\n",
              "      --hover-fill-color: #174EA6;\n",
              "      --disabled-fill-color: #AAA;\n",
              "      --disabled-bg-color: #DDD;\n",
              "  }\n",
              "\n",
              "  [theme=dark] .colab-df-quickchart {\n",
              "      --bg-color: #3B4455;\n",
              "      --fill-color: #D2E3FC;\n",
              "      --hover-bg-color: #434B5C;\n",
              "      --hover-fill-color: #FFFFFF;\n",
              "      --disabled-bg-color: #3B4455;\n",
              "      --disabled-fill-color: #666;\n",
              "  }\n",
              "\n",
              "  .colab-df-quickchart {\n",
              "    background-color: var(--bg-color);\n",
              "    border: none;\n",
              "    border-radius: 50%;\n",
              "    cursor: pointer;\n",
              "    display: none;\n",
              "    fill: var(--fill-color);\n",
              "    height: 32px;\n",
              "    padding: 0;\n",
              "    width: 32px;\n",
              "  }\n",
              "\n",
              "  .colab-df-quickchart:hover {\n",
              "    background-color: var(--hover-bg-color);\n",
              "    box-shadow: 0 1px 2px rgba(60, 64, 67, 0.3), 0 1px 3px 1px rgba(60, 64, 67, 0.15);\n",
              "    fill: var(--button-hover-fill-color);\n",
              "  }\n",
              "\n",
              "  .colab-df-quickchart-complete:disabled,\n",
              "  .colab-df-quickchart-complete:disabled:hover {\n",
              "    background-color: var(--disabled-bg-color);\n",
              "    fill: var(--disabled-fill-color);\n",
              "    box-shadow: none;\n",
              "  }\n",
              "\n",
              "  .colab-df-spinner {\n",
              "    border: 2px solid var(--fill-color);\n",
              "    border-color: transparent;\n",
              "    border-bottom-color: var(--fill-color);\n",
              "    animation:\n",
              "      spin 1s steps(1) infinite;\n",
              "  }\n",
              "\n",
              "  @keyframes spin {\n",
              "    0% {\n",
              "      border-color: transparent;\n",
              "      border-bottom-color: var(--fill-color);\n",
              "      border-left-color: var(--fill-color);\n",
              "    }\n",
              "    20% {\n",
              "      border-color: transparent;\n",
              "      border-left-color: var(--fill-color);\n",
              "      border-top-color: var(--fill-color);\n",
              "    }\n",
              "    30% {\n",
              "      border-color: transparent;\n",
              "      border-left-color: var(--fill-color);\n",
              "      border-top-color: var(--fill-color);\n",
              "      border-right-color: var(--fill-color);\n",
              "    }\n",
              "    40% {\n",
              "      border-color: transparent;\n",
              "      border-right-color: var(--fill-color);\n",
              "      border-top-color: var(--fill-color);\n",
              "    }\n",
              "    60% {\n",
              "      border-color: transparent;\n",
              "      border-right-color: var(--fill-color);\n",
              "    }\n",
              "    80% {\n",
              "      border-color: transparent;\n",
              "      border-right-color: var(--fill-color);\n",
              "      border-bottom-color: var(--fill-color);\n",
              "    }\n",
              "    90% {\n",
              "      border-color: transparent;\n",
              "      border-bottom-color: var(--fill-color);\n",
              "    }\n",
              "  }\n",
              "</style>\n",
              "\n",
              "  <script>\n",
              "    async function quickchart(key) {\n",
              "      const quickchartButtonEl =\n",
              "        document.querySelector('#' + key + ' button');\n",
              "      quickchartButtonEl.disabled = true;  // To prevent multiple clicks.\n",
              "      quickchartButtonEl.classList.add('colab-df-spinner');\n",
              "      try {\n",
              "        const charts = await google.colab.kernel.invokeFunction(\n",
              "            'suggestCharts', [key], {});\n",
              "      } catch (error) {\n",
              "        console.error('Error during call to suggestCharts:', error);\n",
              "      }\n",
              "      quickchartButtonEl.classList.remove('colab-df-spinner');\n",
              "      quickchartButtonEl.classList.add('colab-df-quickchart-complete');\n",
              "    }\n",
              "    (() => {\n",
              "      let quickchartButtonEl =\n",
              "        document.querySelector('#df-3c258189-3142-48e5-81b0-a6842bc5d608 button');\n",
              "      quickchartButtonEl.style.display =\n",
              "        google.colab.kernel.accessAllowed ? 'block' : 'none';\n",
              "    })();\n",
              "  </script>\n",
              "</div>\n",
              "\n",
              "    </div>\n",
              "  </div>\n"
            ],
            "application/vnd.google.colaboratory.intrinsic+json": {
              "type": "dataframe",
              "variable_name": "df"
            }
          },
          "metadata": {},
          "execution_count": 11
        }
      ]
    },
    {
      "cell_type": "code",
      "source": [
        "# Renombra los nombres de las columnas del alemán al inglés y desplegamos de\n",
        "# nuevo el DataFrame para ver el resultado obtenido:\n",
        "english_column_names = [\n",
        "    'status', 'duration', 'credit_history', 'purpose', 'amount',\n",
        "    'savings', 'employment_duration', 'installment_rate', 'personal_status_sex',\n",
        "    'other_debtors', 'present_residence', 'property', 'age',\n",
        "    'other_installment_plans', 'housing', 'number_credits', 'job',\n",
        "    'people_liable', 'telephone', 'foreign_worker', 'credit_risk']\n",
        "df.columns = english_column_names\n",
        "\n",
        "None   # NOTA: Tanto aquí como en lo sucesivo, \"None\" puede indicar una o varias líneas de código.\n",
        "\n",
        "# *********** Aquí termina la sección de agregar código *************\n",
        "\n",
        "df.head().T"
      ],
      "metadata": {
        "id": "ppyf8TTgb9zq",
        "colab": {
          "base_uri": "https://localhost:8080/",
          "height": 707
        },
        "outputId": "3eccd454-ff75-4b8c-fc8e-b18e4d2cde8f"
      },
      "execution_count": 12,
      "outputs": [
        {
          "output_type": "execute_result",
          "data": {
            "text/plain": [
              "                            0     1    2     3     4\n",
              "status                      1     1    2     1     1\n",
              "duration                   18     9   12    12    12\n",
              "credit_history              4     4    2     4     4\n",
              "purpose                     2     0    9     0     0\n",
              "amount                   1049  2799  841  2122  2171\n",
              "savings                     1     1    2     1     1\n",
              "employment_duration         2     3    4     3     3\n",
              "installment_rate            4     2    2     3     4\n",
              "personal_status_sex         2     3    2     3     3\n",
              "other_debtors               1     1    1     1     1\n",
              "present_residence           4     2    4     2     4\n",
              "property                    2     1    1     1     2\n",
              "age                        21    36   23    39    38\n",
              "other_installment_plans     3     3    3     3     1\n",
              "housing                     1     1    1     1     2\n",
              "number_credits              1     2    1     2     2\n",
              "job                         3     3    2     2     2\n",
              "people_liable               2     1    2     1     2\n",
              "telephone                   1     1    1     1     1\n",
              "foreign_worker              2     2    2     1     1\n",
              "credit_risk                 1     1    1     1     1"
            ],
            "text/html": [
              "\n",
              "  <div id=\"df-fb4520dc-9b41-4fc0-bc9e-9d988be5bc9a\" class=\"colab-df-container\">\n",
              "    <div>\n",
              "<style scoped>\n",
              "    .dataframe tbody tr th:only-of-type {\n",
              "        vertical-align: middle;\n",
              "    }\n",
              "\n",
              "    .dataframe tbody tr th {\n",
              "        vertical-align: top;\n",
              "    }\n",
              "\n",
              "    .dataframe thead th {\n",
              "        text-align: right;\n",
              "    }\n",
              "</style>\n",
              "<table border=\"1\" class=\"dataframe\">\n",
              "  <thead>\n",
              "    <tr style=\"text-align: right;\">\n",
              "      <th></th>\n",
              "      <th>0</th>\n",
              "      <th>1</th>\n",
              "      <th>2</th>\n",
              "      <th>3</th>\n",
              "      <th>4</th>\n",
              "    </tr>\n",
              "  </thead>\n",
              "  <tbody>\n",
              "    <tr>\n",
              "      <th>status</th>\n",
              "      <td>1</td>\n",
              "      <td>1</td>\n",
              "      <td>2</td>\n",
              "      <td>1</td>\n",
              "      <td>1</td>\n",
              "    </tr>\n",
              "    <tr>\n",
              "      <th>duration</th>\n",
              "      <td>18</td>\n",
              "      <td>9</td>\n",
              "      <td>12</td>\n",
              "      <td>12</td>\n",
              "      <td>12</td>\n",
              "    </tr>\n",
              "    <tr>\n",
              "      <th>credit_history</th>\n",
              "      <td>4</td>\n",
              "      <td>4</td>\n",
              "      <td>2</td>\n",
              "      <td>4</td>\n",
              "      <td>4</td>\n",
              "    </tr>\n",
              "    <tr>\n",
              "      <th>purpose</th>\n",
              "      <td>2</td>\n",
              "      <td>0</td>\n",
              "      <td>9</td>\n",
              "      <td>0</td>\n",
              "      <td>0</td>\n",
              "    </tr>\n",
              "    <tr>\n",
              "      <th>amount</th>\n",
              "      <td>1049</td>\n",
              "      <td>2799</td>\n",
              "      <td>841</td>\n",
              "      <td>2122</td>\n",
              "      <td>2171</td>\n",
              "    </tr>\n",
              "    <tr>\n",
              "      <th>savings</th>\n",
              "      <td>1</td>\n",
              "      <td>1</td>\n",
              "      <td>2</td>\n",
              "      <td>1</td>\n",
              "      <td>1</td>\n",
              "    </tr>\n",
              "    <tr>\n",
              "      <th>employment_duration</th>\n",
              "      <td>2</td>\n",
              "      <td>3</td>\n",
              "      <td>4</td>\n",
              "      <td>3</td>\n",
              "      <td>3</td>\n",
              "    </tr>\n",
              "    <tr>\n",
              "      <th>installment_rate</th>\n",
              "      <td>4</td>\n",
              "      <td>2</td>\n",
              "      <td>2</td>\n",
              "      <td>3</td>\n",
              "      <td>4</td>\n",
              "    </tr>\n",
              "    <tr>\n",
              "      <th>personal_status_sex</th>\n",
              "      <td>2</td>\n",
              "      <td>3</td>\n",
              "      <td>2</td>\n",
              "      <td>3</td>\n",
              "      <td>3</td>\n",
              "    </tr>\n",
              "    <tr>\n",
              "      <th>other_debtors</th>\n",
              "      <td>1</td>\n",
              "      <td>1</td>\n",
              "      <td>1</td>\n",
              "      <td>1</td>\n",
              "      <td>1</td>\n",
              "    </tr>\n",
              "    <tr>\n",
              "      <th>present_residence</th>\n",
              "      <td>4</td>\n",
              "      <td>2</td>\n",
              "      <td>4</td>\n",
              "      <td>2</td>\n",
              "      <td>4</td>\n",
              "    </tr>\n",
              "    <tr>\n",
              "      <th>property</th>\n",
              "      <td>2</td>\n",
              "      <td>1</td>\n",
              "      <td>1</td>\n",
              "      <td>1</td>\n",
              "      <td>2</td>\n",
              "    </tr>\n",
              "    <tr>\n",
              "      <th>age</th>\n",
              "      <td>21</td>\n",
              "      <td>36</td>\n",
              "      <td>23</td>\n",
              "      <td>39</td>\n",
              "      <td>38</td>\n",
              "    </tr>\n",
              "    <tr>\n",
              "      <th>other_installment_plans</th>\n",
              "      <td>3</td>\n",
              "      <td>3</td>\n",
              "      <td>3</td>\n",
              "      <td>3</td>\n",
              "      <td>1</td>\n",
              "    </tr>\n",
              "    <tr>\n",
              "      <th>housing</th>\n",
              "      <td>1</td>\n",
              "      <td>1</td>\n",
              "      <td>1</td>\n",
              "      <td>1</td>\n",
              "      <td>2</td>\n",
              "    </tr>\n",
              "    <tr>\n",
              "      <th>number_credits</th>\n",
              "      <td>1</td>\n",
              "      <td>2</td>\n",
              "      <td>1</td>\n",
              "      <td>2</td>\n",
              "      <td>2</td>\n",
              "    </tr>\n",
              "    <tr>\n",
              "      <th>job</th>\n",
              "      <td>3</td>\n",
              "      <td>3</td>\n",
              "      <td>2</td>\n",
              "      <td>2</td>\n",
              "      <td>2</td>\n",
              "    </tr>\n",
              "    <tr>\n",
              "      <th>people_liable</th>\n",
              "      <td>2</td>\n",
              "      <td>1</td>\n",
              "      <td>2</td>\n",
              "      <td>1</td>\n",
              "      <td>2</td>\n",
              "    </tr>\n",
              "    <tr>\n",
              "      <th>telephone</th>\n",
              "      <td>1</td>\n",
              "      <td>1</td>\n",
              "      <td>1</td>\n",
              "      <td>1</td>\n",
              "      <td>1</td>\n",
              "    </tr>\n",
              "    <tr>\n",
              "      <th>foreign_worker</th>\n",
              "      <td>2</td>\n",
              "      <td>2</td>\n",
              "      <td>2</td>\n",
              "      <td>1</td>\n",
              "      <td>1</td>\n",
              "    </tr>\n",
              "    <tr>\n",
              "      <th>credit_risk</th>\n",
              "      <td>1</td>\n",
              "      <td>1</td>\n",
              "      <td>1</td>\n",
              "      <td>1</td>\n",
              "      <td>1</td>\n",
              "    </tr>\n",
              "  </tbody>\n",
              "</table>\n",
              "</div>\n",
              "    <div class=\"colab-df-buttons\">\n",
              "\n",
              "  <div class=\"colab-df-container\">\n",
              "    <button class=\"colab-df-convert\" onclick=\"convertToInteractive('df-fb4520dc-9b41-4fc0-bc9e-9d988be5bc9a')\"\n",
              "            title=\"Convert this dataframe to an interactive table.\"\n",
              "            style=\"display:none;\">\n",
              "\n",
              "  <svg xmlns=\"http://www.w3.org/2000/svg\" height=\"24px\" viewBox=\"0 -960 960 960\">\n",
              "    <path d=\"M120-120v-720h720v720H120Zm60-500h600v-160H180v160Zm220 220h160v-160H400v160Zm0 220h160v-160H400v160ZM180-400h160v-160H180v160Zm440 0h160v-160H620v160ZM180-180h160v-160H180v160Zm440 0h160v-160H620v160Z\"/>\n",
              "  </svg>\n",
              "    </button>\n",
              "\n",
              "  <style>\n",
              "    .colab-df-container {\n",
              "      display:flex;\n",
              "      gap: 12px;\n",
              "    }\n",
              "\n",
              "    .colab-df-convert {\n",
              "      background-color: #E8F0FE;\n",
              "      border: none;\n",
              "      border-radius: 50%;\n",
              "      cursor: pointer;\n",
              "      display: none;\n",
              "      fill: #1967D2;\n",
              "      height: 32px;\n",
              "      padding: 0 0 0 0;\n",
              "      width: 32px;\n",
              "    }\n",
              "\n",
              "    .colab-df-convert:hover {\n",
              "      background-color: #E2EBFA;\n",
              "      box-shadow: 0px 1px 2px rgba(60, 64, 67, 0.3), 0px 1px 3px 1px rgba(60, 64, 67, 0.15);\n",
              "      fill: #174EA6;\n",
              "    }\n",
              "\n",
              "    .colab-df-buttons div {\n",
              "      margin-bottom: 4px;\n",
              "    }\n",
              "\n",
              "    [theme=dark] .colab-df-convert {\n",
              "      background-color: #3B4455;\n",
              "      fill: #D2E3FC;\n",
              "    }\n",
              "\n",
              "    [theme=dark] .colab-df-convert:hover {\n",
              "      background-color: #434B5C;\n",
              "      box-shadow: 0px 1px 3px 1px rgba(0, 0, 0, 0.15);\n",
              "      filter: drop-shadow(0px 1px 2px rgba(0, 0, 0, 0.3));\n",
              "      fill: #FFFFFF;\n",
              "    }\n",
              "  </style>\n",
              "\n",
              "    <script>\n",
              "      const buttonEl =\n",
              "        document.querySelector('#df-fb4520dc-9b41-4fc0-bc9e-9d988be5bc9a button.colab-df-convert');\n",
              "      buttonEl.style.display =\n",
              "        google.colab.kernel.accessAllowed ? 'block' : 'none';\n",
              "\n",
              "      async function convertToInteractive(key) {\n",
              "        const element = document.querySelector('#df-fb4520dc-9b41-4fc0-bc9e-9d988be5bc9a');\n",
              "        const dataTable =\n",
              "          await google.colab.kernel.invokeFunction('convertToInteractive',\n",
              "                                                    [key], {});\n",
              "        if (!dataTable) return;\n",
              "\n",
              "        const docLinkHtml = 'Like what you see? Visit the ' +\n",
              "          '<a target=\"_blank\" href=https://colab.research.google.com/notebooks/data_table.ipynb>data table notebook</a>'\n",
              "          + ' to learn more about interactive tables.';\n",
              "        element.innerHTML = '';\n",
              "        dataTable['output_type'] = 'display_data';\n",
              "        await google.colab.output.renderOutput(dataTable, element);\n",
              "        const docLink = document.createElement('div');\n",
              "        docLink.innerHTML = docLinkHtml;\n",
              "        element.appendChild(docLink);\n",
              "      }\n",
              "    </script>\n",
              "  </div>\n",
              "\n",
              "\n",
              "<div id=\"df-80c73d2f-9913-4aa2-981b-6f64bfcb7cbd\">\n",
              "  <button class=\"colab-df-quickchart\" onclick=\"quickchart('df-80c73d2f-9913-4aa2-981b-6f64bfcb7cbd')\"\n",
              "            title=\"Suggest charts\"\n",
              "            style=\"display:none;\">\n",
              "\n",
              "<svg xmlns=\"http://www.w3.org/2000/svg\" height=\"24px\"viewBox=\"0 0 24 24\"\n",
              "     width=\"24px\">\n",
              "    <g>\n",
              "        <path d=\"M19 3H5c-1.1 0-2 .9-2 2v14c0 1.1.9 2 2 2h14c1.1 0 2-.9 2-2V5c0-1.1-.9-2-2-2zM9 17H7v-7h2v7zm4 0h-2V7h2v10zm4 0h-2v-4h2v4z\"/>\n",
              "    </g>\n",
              "</svg>\n",
              "  </button>\n",
              "\n",
              "<style>\n",
              "  .colab-df-quickchart {\n",
              "      --bg-color: #E8F0FE;\n",
              "      --fill-color: #1967D2;\n",
              "      --hover-bg-color: #E2EBFA;\n",
              "      --hover-fill-color: #174EA6;\n",
              "      --disabled-fill-color: #AAA;\n",
              "      --disabled-bg-color: #DDD;\n",
              "  }\n",
              "\n",
              "  [theme=dark] .colab-df-quickchart {\n",
              "      --bg-color: #3B4455;\n",
              "      --fill-color: #D2E3FC;\n",
              "      --hover-bg-color: #434B5C;\n",
              "      --hover-fill-color: #FFFFFF;\n",
              "      --disabled-bg-color: #3B4455;\n",
              "      --disabled-fill-color: #666;\n",
              "  }\n",
              "\n",
              "  .colab-df-quickchart {\n",
              "    background-color: var(--bg-color);\n",
              "    border: none;\n",
              "    border-radius: 50%;\n",
              "    cursor: pointer;\n",
              "    display: none;\n",
              "    fill: var(--fill-color);\n",
              "    height: 32px;\n",
              "    padding: 0;\n",
              "    width: 32px;\n",
              "  }\n",
              "\n",
              "  .colab-df-quickchart:hover {\n",
              "    background-color: var(--hover-bg-color);\n",
              "    box-shadow: 0 1px 2px rgba(60, 64, 67, 0.3), 0 1px 3px 1px rgba(60, 64, 67, 0.15);\n",
              "    fill: var(--button-hover-fill-color);\n",
              "  }\n",
              "\n",
              "  .colab-df-quickchart-complete:disabled,\n",
              "  .colab-df-quickchart-complete:disabled:hover {\n",
              "    background-color: var(--disabled-bg-color);\n",
              "    fill: var(--disabled-fill-color);\n",
              "    box-shadow: none;\n",
              "  }\n",
              "\n",
              "  .colab-df-spinner {\n",
              "    border: 2px solid var(--fill-color);\n",
              "    border-color: transparent;\n",
              "    border-bottom-color: var(--fill-color);\n",
              "    animation:\n",
              "      spin 1s steps(1) infinite;\n",
              "  }\n",
              "\n",
              "  @keyframes spin {\n",
              "    0% {\n",
              "      border-color: transparent;\n",
              "      border-bottom-color: var(--fill-color);\n",
              "      border-left-color: var(--fill-color);\n",
              "    }\n",
              "    20% {\n",
              "      border-color: transparent;\n",
              "      border-left-color: var(--fill-color);\n",
              "      border-top-color: var(--fill-color);\n",
              "    }\n",
              "    30% {\n",
              "      border-color: transparent;\n",
              "      border-left-color: var(--fill-color);\n",
              "      border-top-color: var(--fill-color);\n",
              "      border-right-color: var(--fill-color);\n",
              "    }\n",
              "    40% {\n",
              "      border-color: transparent;\n",
              "      border-right-color: var(--fill-color);\n",
              "      border-top-color: var(--fill-color);\n",
              "    }\n",
              "    60% {\n",
              "      border-color: transparent;\n",
              "      border-right-color: var(--fill-color);\n",
              "    }\n",
              "    80% {\n",
              "      border-color: transparent;\n",
              "      border-right-color: var(--fill-color);\n",
              "      border-bottom-color: var(--fill-color);\n",
              "    }\n",
              "    90% {\n",
              "      border-color: transparent;\n",
              "      border-bottom-color: var(--fill-color);\n",
              "    }\n",
              "  }\n",
              "</style>\n",
              "\n",
              "  <script>\n",
              "    async function quickchart(key) {\n",
              "      const quickchartButtonEl =\n",
              "        document.querySelector('#' + key + ' button');\n",
              "      quickchartButtonEl.disabled = true;  // To prevent multiple clicks.\n",
              "      quickchartButtonEl.classList.add('colab-df-spinner');\n",
              "      try {\n",
              "        const charts = await google.colab.kernel.invokeFunction(\n",
              "            'suggestCharts', [key], {});\n",
              "      } catch (error) {\n",
              "        console.error('Error during call to suggestCharts:', error);\n",
              "      }\n",
              "      quickchartButtonEl.classList.remove('colab-df-spinner');\n",
              "      quickchartButtonEl.classList.add('colab-df-quickchart-complete');\n",
              "    }\n",
              "    (() => {\n",
              "      let quickchartButtonEl =\n",
              "        document.querySelector('#df-80c73d2f-9913-4aa2-981b-6f64bfcb7cbd button');\n",
              "      quickchartButtonEl.style.display =\n",
              "        google.colab.kernel.accessAllowed ? 'block' : 'none';\n",
              "    })();\n",
              "  </script>\n",
              "</div>\n",
              "\n",
              "    </div>\n",
              "  </div>\n"
            ],
            "application/vnd.google.colaboratory.intrinsic+json": {
              "type": "dataframe",
              "variable_name": "df"
            }
          },
          "metadata": {},
          "execution_count": 12
        }
      ]
    },
    {
      "cell_type": "markdown",
      "source": [
        "## **Ejercicio 2**"
      ],
      "metadata": {
        "id": "LckYCS8SlnFo"
      }
    },
    {
      "cell_type": "code",
      "source": [
        "# Los datos originales tienen en la variable de salida \"credit_risk\" a la clase negativa (buen cliente) con el valor de 1\n",
        "# y a la clase de interés positiva (mal cliente) con el valor de 0. Realiza a continuación una transformación para que la\n",
        "# clase negativa (buen cliente) quede ahora con el valor de 0 y la clase positiva (mal cliente) quede con el valor de 1.\n",
        "\n",
        "\n",
        "# ************* Inlcuye aquí tu código:*****************************\n",
        "\n",
        "df['credit_risk'] = 1 - df['credit_risk']\n",
        "df.head()\n",
        "# *********** Aquí termina la sección de agregar código *************\n",
        "\n",
        "\n",
        "print(df['credit_risk'].value_counts())"
      ],
      "metadata": {
        "id": "Tlg8jYbnlqNA",
        "colab": {
          "base_uri": "https://localhost:8080/"
        },
        "outputId": "3d3f03e7-44c2-4afe-e04c-b84a1539d9be"
      },
      "execution_count": 25,
      "outputs": [
        {
          "output_type": "stream",
          "name": "stdout",
          "text": [
            "1    700\n",
            "0    300\n",
            "Name: credit_risk, dtype: int64\n"
          ]
        }
      ]
    },
    {
      "cell_type": "markdown",
      "source": [
        "## **Ejercicio 3**"
      ],
      "metadata": {
        "id": "qQx2lbzTkEsQ"
      }
    },
    {
      "cell_type": "code",
      "source": [
        "# Realiza una partición de 70-15-15 en entrenamiento, validación y prueba.\n",
        "# Los nombres de los conjuntos deberán ser como se indican en los print de abajo:\n",
        "target_column = 'credit_risk'\n",
        "X = df.drop(target_column, axis=1)\n",
        "y = df[target_column]\n",
        "\n",
        "# ************* Inlcuye aquí tu código:*****************************\n",
        "\n",
        "label_encoder = LabelEncoder()\n",
        "y_encoded = label_encoder.fit_transform(y)\n",
        "\n",
        "Xtrain, Xtest, ytrain, ytest = train_test_split(X, y_encoded, test_size=0.15, random_state=1, stratify=y)\n",
        "Xtrain, Xval, ytrain, yval = train_test_split(Xtrain, ytrain, test_size=len(ytest), random_state=1, stratify=ytrain)\n",
        "\n",
        "# *********** Aquí termina la sección de agregar código *************\n",
        "\n",
        "# Mostremos las dimensiones de la partición generada:\n",
        "print(Xtrain.shape, ytrain.shape)\n",
        "print(Xval.shape, yval.shape)\n",
        "print(Xtest.shape, ytest.shape)"
      ],
      "metadata": {
        "id": "TP5-zdWVczhy",
        "colab": {
          "base_uri": "https://localhost:8080/"
        },
        "outputId": "75ee8d31-5223-489a-9411-87eecab51295"
      },
      "execution_count": 15,
      "outputs": [
        {
          "output_type": "stream",
          "name": "stdout",
          "text": [
            "(700, 20) (700,)\n",
            "(150, 20) (150,)\n",
            "(150, 20) (150,)\n"
          ]
        }
      ]
    },
    {
      "cell_type": "markdown",
      "source": [
        "## **Ejercicio 4**"
      ],
      "metadata": {
        "id": "ocmGcSC2j_2x"
      }
    },
    {
      "cell_type": "code",
      "source": [
        "df.columns = english_column_names\n",
        "\n",
        "data_types = df.dtypes\n",
        "\n",
        "categorical = []\n",
        "numerical = []\n",
        "\n",
        "for column, data_type in data_types.items():\n",
        "    if data_type == 'object' or data_type.name.startswith('category') or len(df[column].unique()) < 20:\n",
        "        categorical.append((column, len(df[column].unique())))\n",
        "    else:\n",
        "        numerical.append(column)\n",
        "\n",
        "print(\"Variables categóricas y número de niveles:\")\n",
        "for cat, levels in categorical:\n",
        "    print(f\"{cat}: {levels} niveles\")\n",
        "print(\"\\nVariables numéricas:\")\n",
        "print(numerical)"
      ],
      "metadata": {
        "colab": {
          "base_uri": "https://localhost:8080/"
        },
        "id": "r6A4Lu82DBfn",
        "outputId": "6c5bd68f-6014-484d-cc91-17ce81e9a0bd"
      },
      "execution_count": 43,
      "outputs": [
        {
          "output_type": "stream",
          "name": "stdout",
          "text": [
            "Variables categóricas y número de niveles:\n",
            "status: 4 niveles\n",
            "credit_history: 5 niveles\n",
            "purpose: 10 niveles\n",
            "savings: 5 niveles\n",
            "employment_duration: 5 niveles\n",
            "installment_rate: 4 niveles\n",
            "personal_status_sex: 4 niveles\n",
            "other_debtors: 3 niveles\n",
            "present_residence: 4 niveles\n",
            "property: 4 niveles\n",
            "other_installment_plans: 3 niveles\n",
            "housing: 3 niveles\n",
            "number_credits: 4 niveles\n",
            "job: 4 niveles\n",
            "people_liable: 2 niveles\n",
            "telephone: 2 niveles\n",
            "foreign_worker: 2 niveles\n",
            "credit_risk: 2 niveles\n",
            "\n",
            "Variables numéricas:\n",
            "['duration', 'amount', 'age']\n"
          ]
        }
      ]
    },
    {
      "cell_type": "markdown",
      "source": [
        "### **Describe a continuación la información de cada variable: su descripción, el tipo de variable y para el caso de las categóricas, el total de niveles que tiene.**\n",
        "\n",
        "### ++++++++ Inicia la sección de agregar texto: +++++++++++\n",
        "\n",
        "### **Variables Categóricas:**\n",
        "\n",
        "1. status: Al contar con numeros son identificados como una categoria, lo vuelve categorica. (4 niveles)\n",
        "2. credit_history: Representa distintos historiales de los clientes, los ordena y categoriza. (5 niveles)\n",
        "3. purpose: El proposito del credito esta señalizado como categorias. (10 niveles)\n",
        "4. savings: Hace categorías sobre el monto ahorrado. (5 niveles)\n",
        "5. employment_duration :Hace agrupaciones según la duración del empleo, esto ya lo vuelve categorico. (5 niveles)\n",
        "6. installment_rate: Te da una clasificación según las tasas. (4 niveles)\n",
        "7. personal_status_sex: Son datos no números que sirven para categorizar clientes en este caso genero y estado civil. (4 niveles)\n",
        "8. other_debtors: Clasifica a los otros deudores. (3 niveles)\n",
        "9. present_residence: Estatus en la residencia actual. (4 niveles)\n",
        "10. property: Diferentes niveles y tipos de propiedad. (4 niveles)\n",
        "11. other_installment_plans: Cateogría dependiendo el tipo d eplanes de pago.. (3 niveles)\n",
        "12. housing: Categoriza el tipo de vivienda. (3 niveles)\n",
        "13. number_credits: Historial Crediticio. (4 niveles)\n",
        "14. job: Categoriza el tipo de trabajo o empleo. (4 niveles)\n",
        "15. people_liable: Número de personas dependientes del cliente. (2 niveles)\n",
        "16. telephone: El numero de teléfono siempre es distinto, lo cual genera una categoría. (2 niveles)\n",
        "17. foreign_worker: Indicador de si el cliente es extranjero. (2 niveles)\n",
        "18. credit_risk: Clasificaciónd el riesgo. (2 niveles)\n",
        "\n",
        "### **Variables Numéricas:**\n",
        "\n",
        "1. duration: La duración del crédito en meses, esto es una cantidad numerica que se puede hacer un cálculo matemático.\n",
        "2. amount: La cantidad de dinero es numerico.\n",
        "3. age: Es una cantidad numerica en años, si fuera agrupada por rangos cambiaría a categorica.\n",
        "\n",
        "### ++++++++ Termina la sección de agregar texto. +++++++++++"
      ],
      "metadata": {
        "id": "aRkZvfhVeLxU"
      }
    },
    {
      "cell_type": "markdown",
      "source": [
        "## **Ejercicio 5**"
      ],
      "metadata": {
        "id": "zb5bE4WJj8Rw"
      }
    },
    {
      "cell_type": "markdown",
      "source": [
        "### Análisis descriptivo de las variables usando el conjunto de entrenamiento.\n",
        "\n",
        "### Incluye a continuación todo el código que consideres necesario para analizar las variables y decidir en dado caso qué transformaciones les estarías aplicando."
      ],
      "metadata": {
        "id": "urAFNUyMjodn"
      }
    },
    {
      "cell_type": "code",
      "source": [
        " # Puedes incluir a continuación todas las celdas de código que requieras...."
      ],
      "metadata": {
        "id": "SUTLLPFfICBM"
      },
      "execution_count": null,
      "outputs": []
    },
    {
      "cell_type": "code",
      "source": [
        "#Valores Faltantes\n",
        "total = df.isnull().sum().sort_values(ascending=False)\n",
        "porcentaje = (df.isnull().sum()/df.isnull().count()).sort_values(ascending=False) * 100\n",
        "\n",
        "valores_faltantes = pd.concat([total, porcentaje], axis=1, keys=['Total', 'Porcentaje'])\n",
        "print(valores_faltantes)"
      ],
      "metadata": {
        "colab": {
          "base_uri": "https://localhost:8080/"
        },
        "id": "bNwsHkfUHj7w",
        "outputId": "b485f5e6-cc8b-4d64-9ca1-3fc66dcf69b7"
      },
      "execution_count": 60,
      "outputs": [
        {
          "output_type": "stream",
          "name": "stdout",
          "text": [
            "                         Total  Porcentaje\n",
            "status                       0         0.0\n",
            "property                     0         0.0\n",
            "foreign_worker               0         0.0\n",
            "telephone                    0         0.0\n",
            "people_liable                0         0.0\n",
            "job                          0         0.0\n",
            "number_credits               0         0.0\n",
            "housing                      0         0.0\n",
            "other_installment_plans      0         0.0\n",
            "age                          0         0.0\n",
            "present_residence            0         0.0\n",
            "duration                     0         0.0\n",
            "other_debtors                0         0.0\n",
            "personal_status_sex          0         0.0\n",
            "installment_rate             0         0.0\n",
            "employment_duration          0         0.0\n",
            "savings                      0         0.0\n",
            "amount                       0         0.0\n",
            "purpose                      0         0.0\n",
            "credit_history               0         0.0\n",
            "credit_risk                  0         0.0\n"
          ]
        }
      ]
    },
    {
      "cell_type": "code",
      "source": [
        "#resumen estadístico con variables numericas....\n",
        "resumen_numerico = df[num_lista].describe()\n",
        "print(resumen_numerico)\n"
      ],
      "metadata": {
        "id": "FZNjwKewd9fK",
        "colab": {
          "base_uri": "https://localhost:8080/"
        },
        "outputId": "afcdaae0-5bef-4b33-f453-97f849f0aec8"
      },
      "execution_count": 52,
      "outputs": [
        {
          "output_type": "stream",
          "name": "stdout",
          "text": [
            "          duration       amount         age\n",
            "count  1000.000000   1000.00000  1000.00000\n",
            "mean     20.903000   3271.24800    35.54200\n",
            "std      12.058814   2822.75176    11.35267\n",
            "min       4.000000    250.00000    19.00000\n",
            "25%      12.000000   1365.50000    27.00000\n",
            "50%      18.000000   2319.50000    33.00000\n",
            "75%      24.000000   3972.25000    42.00000\n",
            "max      72.000000  18424.00000    75.00000\n"
          ]
        }
      ]
    },
    {
      "cell_type": "code",
      "source": [
        "#Deteccion de valores atipicos\n",
        "for columna in num_lista:\n",
        "    sns.boxplot(x=df[columna])\n",
        "    plt.title(f\"Boxplot de {columna}\")\n",
        "    plt.show()"
      ],
      "metadata": {
        "colab": {
          "base_uri": "https://localhost:8080/",
          "height": 992
        },
        "id": "7uUeaAIvHV0Q",
        "outputId": "3258015b-9e26-4f93-cad0-05482c3d8d8e"
      },
      "execution_count": 59,
      "outputs": [
        {
          "output_type": "display_data",
          "data": {
            "text/plain": [
              "<Figure size 1000x300 with 1 Axes>"
            ],
            "image/png": "[encoded data removed]"
          },
          "metadata": {}
        },
        {
          "output_type": "display_data",
          "data": {
            "text/plain": [
              "<Figure size 1000x300 with 1 Axes>"
            ],
            "image/png": "[encoded data removed]"
          },
          "metadata": {}
        },
        {
          "output_type": "display_data",
          "data": {
            "text/plain": [
              "<Figure size 1000x300 with 1 Axes>"
            ],
            "image/png": "[encoded data removed]"
          },
          "metadata": {}
        }
      ]
    },
    {
      "cell_type": "markdown",
      "source": [
        "\n",
        "### **Describe y explica a continuación las transformaciones que has decidido aplicar a cada columna:**\n",
        "\n",
        "### ++++++++ Inicia la sección de agregar texto: +++++++++++\n",
        "-Primero decidí hacer un análsis de valores faltantes, lo cual resultó a que no tenía ningún valor faltante. No requiere ninguna transformación.\n",
        "-Después analize de las variables númericas sus estadísticas generales.\n",
        "-Adicional saqué un analisis de boxplot para ver los datos \"outliers\"\n",
        "-Finalmente decidí hacer la transformación del resto de las columnas que son categoricas a numericas para poder hacer un análisis adecuado más adelante, ya que algunas de ellas al momento de agrupar sus resultados evitan poder hacer un análisis estadístico más exacto.\n",
        "\n",
        "\n",
        "### ++++++++ Termina la sección de agregar texto. +++++++++++\n"
      ],
      "metadata": {
        "id": "_-W1Y9GxiW4Q"
      }
    },
    {
      "cell_type": "markdown",
      "source": [
        "# **Parte II: Modelos de aprendizaje automático con los conjuntos originales de la partición realizada.**"
      ],
      "metadata": {
        "id": "B9i2CrLJs-1m"
      }
    },
    {
      "cell_type": "markdown",
      "source": [
        "## **Ejercicio 6**"
      ],
      "metadata": {
        "id": "UJokj9Diyeu0"
      }
    },
    {
      "cell_type": "code",
      "source": [
        "# Transformaciones que se aplicarán a las variables numéricas usando la clase Pipeline de sklearn:\n",
        "\n",
        "# ************* Inlcuye aquí tu código:*****************************\n",
        "\n",
        "# Definición de las columnas numéricas y categóricas\n",
        "num_cols = ['duration', 'amount', 'age']\n",
        "cat_cols = ['status', 'credit_history', 'purpose', 'savings',\n",
        "           'employment_duration', 'installment_rate', 'personal_status_sex',\n",
        "           'other_debtors', 'present_residence', 'property',\n",
        "           'other_installment_plans', 'housing', 'number_credits',\n",
        "           'job', 'people_liable', 'telephone', 'foreign_worker']\n",
        "\n",
        "# Transformación logarítmica para las variables numéricas (se asume que 'num_cols' está definida previamente)\n",
        "num_pipe = Pipeline(steps=[\n",
        "    ('imputer', SimpleImputer(strategy='median')),\n",
        "    ('log', FunctionTransformer(np.log1p))  # Usamos np.log1p para el cálculo de log(1 + x) para evitar problemas con valores 0\n",
        "])\n",
        "\n",
        "# Transformación de codificación One-Hot para las variables categóricas (se asume que 'cat_cols' está definida previamente)\n",
        "cat_pipe = Pipeline(steps=[\n",
        "    ('imputer', SimpleImputer(strategy='most_frequent')),\n",
        "    ('onehot', OneHotEncoder(handle_unknown='ignore'))\n",
        "])\n",
        "\n",
        "# Combinando las transformaciones numéricas y categóricas en un ColumnTransformer\n",
        "columnasTransformer = ColumnTransformer(\n",
        "    transformers=[\n",
        "        ('num', num_pipe, num_cols),\n",
        "        ('cat', cat_pipe, cat_cols)\n",
        "    ],\n",
        "    remainder='passthrough'\n",
        ")\n",
        "\n",
        "# *********** Aquí termina la sección de agregar código *************\n",
        "\n",
        "\n",
        "XtrainFit = columnasTransformer.fit(Xtrain)\n",
        "XtrainT = XtrainFit.transform(Xtrain)\n",
        "XvalT = XtrainFit.transform(Xval)\n",
        "XtestT = XtrainFit.transform(Xtest)\n"
      ],
      "metadata": {
        "id": "NvNYiIp9weCm"
      },
      "execution_count": 73,
      "outputs": []
    },
    {
      "cell_type": "markdown",
      "source": [
        "## **Ejercicio 7**"
      ],
      "metadata": {
        "id": "hZxyRbHL0gNF"
      }
    },
    {
      "cell_type": "code",
      "source": [
        "# Como se va a utilizar Validación-Cruzada, concatena los conjuntos de entrenamiento y validación\n",
        "# en uno nuevo aumentado que llamaremos trainval para utilizar como entrenamiento:\n",
        "\n",
        "# ************* Inlcuye aquí tu código:**************************\n",
        "\n",
        "ytrainval = np.concatenate([ytrain, yval], axis=0)\n",
        "ytrain_series = pd.Series(ytrain.flatten())  # Usamos flatten en caso de que sea un array de más de 1 dimensión\n",
        "yval_series = pd.Series(yval.flatten())\n",
        "ytrainval = pd.concat([ytrain_series, yval_series], ignore_index=True)\n",
        "\n",
        "# *********** Aquí termina la sección de agregar código *************\n",
        "print(Xtrainval.shape, ytrainval.shape)\n"
      ],
      "metadata": {
        "id": "d3lqBiH5wd1e",
        "colab": {
          "base_uri": "https://localhost:8080/"
        },
        "outputId": "40e40aeb-bfd8-467d-a9ff-8a227eaff0cc"
      },
      "execution_count": 76,
      "outputs": [
        {
          "output_type": "stream",
          "name": "stdout",
          "text": [
            "(850, 20) (850,)\n"
          ]
        }
      ]
    },
    {
      "cell_type": "markdown",
      "source": [
        "## **Ejercicio 8**"
      ],
      "metadata": {
        "id": "DyzIjcVAF6Y7"
      }
    },
    {
      "cell_type": "code",
      "source": [
        "# Definimos a continuación la función que llamamos \"mis_modelos\" que incluye\n",
        "# todos los modelos que deseamos comparar en el ejercicio.\n",
        "# Por el momento todas tienen sus argumentos predeterminados, pero deberás\n",
        "# ajustarlos de manera que todos los modelos converjan durante el entrenamiento\n",
        "# y puedas comparar cuál o cuáles de ellos son los mejores modelos.\n",
        "\n",
        "def mis_modelos():\n",
        "  modelos, nombres = list(), list()\n",
        "\n",
        "\n",
        "  # ************* Inlcuye aquí tu código:**************************\n",
        "  #\n",
        "  # Deberás incluir en cada modelo los argumentos que consideres\n",
        "  # adecuados para que cada uno converja. En dado caso una decisión\n",
        "  # puede ser que un modelo tenga simplemente los valores de sus\n",
        "  # hiperparámetros con los predeterminados.\n",
        "  # Consulta en dado caso la documentación de cada modelo para\n",
        "  # la identificación de los hiperparámetros que desees ajustar.\n",
        "\n",
        "\n",
        "# Regresión Logística:\n",
        "  modelos.append(LogisticRegression(random_state=1))\n",
        "  nombres.append('LR')\n",
        "\n",
        "  # k-Vecinos más Cercanos:\n",
        "  modelos.append(KNeighborsClassifier(n_neighbors=7))# weights='distance'\n",
        "  nombres.append('kNN')\n",
        "\n",
        "  # Árbol de decisiones:\n",
        "  modelos.append(DecisionTreeClassifier(ccp_alpha=0.006,max_depth=2,class_weight= 'balanced',random_state=1))\n",
        "  nombres.append('DTree')\n",
        "\n",
        "  # Bosque Aleatorio:\n",
        "  modelos.append(RandomForestClassifier(n_estimators=100,max_depth=2,class_weight= 'balanced',random_state=1))\n",
        "  nombres.append('RF')\n",
        "  # XGBoosting:\n",
        "  modelos.append(XGBClassifier(learning_rate=0.02,max_depth=2,random_state=1))\n",
        "  nombres.append('XGBoost')\n",
        "\n",
        "  # Red neuronal de Perceptrón Multicapa:\n",
        "  modelos.append(MLPClassifier(learning_rate='adaptive',random_state=1))\n",
        "  nombres.append('MLP')\n",
        "\n",
        "  # Máquina de Vectores de Soporte:\n",
        "  modelos.append(SVC(random_state=1))\n",
        "  nombres.append('SVM')\n",
        "\n",
        "  # *********** Aquí termina la sección de agregar código *************\n",
        "\n",
        "  return modelos, nombres\n",
        "\n",
        "\n",
        "# Entrenemos cada uno de los modelos y desplegamos la métricas de Train y Val.\n",
        "\n",
        "# NOTA: Observa que el método de Validación-Cruzada llama  a los resultados\n",
        "#       de \"validation\" como \"test\":\n",
        "\n",
        "modelos, nombres = mis_modelos()\n",
        "resultados = list()\n",
        "\n",
        "for i in range(len(modelos)):\n",
        "\n",
        "  # Definimos nuestro pipeline con las transformaciones y los modelos:\n",
        "  pipeline = Pipeline(steps=[('ct',columnasTransformer),('m',modelos[i])])\n",
        "\n",
        "  # Aplicaremos validación-cruzada:\n",
        "  micv = RepeatedStratifiedKFold(n_splits=5, n_repeats=3)\n",
        "\n",
        "  # Definimos las métricas que desamos recuperar:\n",
        "  mismetricas = {'accuracy','precision','recall','f1','roc_auc'}\n",
        "\n",
        "  # Llevamos a cabo el entrenamiento:\n",
        "  scores = cross_validate(pipeline,\n",
        "                          Xtrainval,\n",
        "                          ytrainval,\n",
        "                          scoring=mismetricas,\n",
        "                          cv=micv,\n",
        "                          return_train_score=True,\n",
        "                          )\n",
        "\n",
        "  # Guardemos el resultado de cada modelopara análisis posteriores.\n",
        "  resultados.append(scores)\n",
        "\n",
        "  # Desplegamos los valores de las métricas para verificar si no hay\n",
        "  # subentrenamiento o sobreentrenamiento:\n",
        "  print('>> %s' % nombres[i])\n",
        "  for j,k in enumerate(list(scores.keys())):\n",
        "    if j>1:\n",
        "      print('\\t %s %.3f (%.3f)' % (k, np.mean(scores[k]),np.std(scores[k])))"
      ],
      "metadata": {
        "id": "0hdi7AAtwd5G",
        "colab": {
          "base_uri": "https://localhost:8080/",
          "height": 342
        },
        "outputId": "c3466ef7-47cb-4f5a-ad16-036f6aa0da40"
      },
      "execution_count": 81,
      "outputs": [
        {
          "output_type": "error",
          "ename": "NameError",
          "evalue": "name 'KNeighborsClassifier' is not defined",
          "traceback": [
            "\u001b[0;31m---------------------------------------------------------------------------\u001b[0m",
            "\u001b[0;31mNameError\u001b[0m                                 Traceback (most recent call last)",
            "\u001b[0;32m<ipython-input-81-a2968b6ec034>\u001b[0m in \u001b[0;36m<cell line: 62>\u001b[0;34m()\u001b[0m\n\u001b[1;32m     60\u001b[0m \u001b[0;31m#       de \"validation\" como \"test\":\u001b[0m\u001b[0;34m\u001b[0m\u001b[0;34m\u001b[0m\u001b[0m\n\u001b[1;32m     61\u001b[0m \u001b[0;34m\u001b[0m\u001b[0m\n\u001b[0;32m---> 62\u001b[0;31m \u001b[0mmodelos\u001b[0m\u001b[0;34m,\u001b[0m \u001b[0mnombres\u001b[0m \u001b[0;34m=\u001b[0m \u001b[0mmis_modelos\u001b[0m\u001b[0;34m(\u001b[0m\u001b[0;34m)\u001b[0m\u001b[0;34m\u001b[0m\u001b[0;34m\u001b[0m\u001b[0m\n\u001b[0m\u001b[1;32m     63\u001b[0m \u001b[0mresultados\u001b[0m \u001b[0;34m=\u001b[0m \u001b[0mlist\u001b[0m\u001b[0;34m(\u001b[0m\u001b[0;34m)\u001b[0m\u001b[0;34m\u001b[0m\u001b[0;34m\u001b[0m\u001b[0m\n\u001b[1;32m     64\u001b[0m \u001b[0;34m\u001b[0m\u001b[0m\n",
            "\u001b[0;32m<ipython-input-81-a2968b6ec034>\u001b[0m in \u001b[0;36mmis_modelos\u001b[0;34m()\u001b[0m\n\u001b[1;32m     24\u001b[0m \u001b[0;34m\u001b[0m\u001b[0m\n\u001b[1;32m     25\u001b[0m   \u001b[0;31m# k-Vecinos más Cercanos:\u001b[0m\u001b[0;34m\u001b[0m\u001b[0;34m\u001b[0m\u001b[0m\n\u001b[0;32m---> 26\u001b[0;31m   \u001b[0mmodelos\u001b[0m\u001b[0;34m.\u001b[0m\u001b[0mappend\u001b[0m\u001b[0;34m(\u001b[0m\u001b[0mKNeighborsClassifier\u001b[0m\u001b[0;34m(\u001b[0m\u001b[0mn_neighbors\u001b[0m\u001b[0;34m=\u001b[0m\u001b[0;36m7\u001b[0m\u001b[0;34m)\u001b[0m\u001b[0;34m)\u001b[0m\u001b[0;31m# weights='distance'\u001b[0m\u001b[0;34m\u001b[0m\u001b[0;34m\u001b[0m\u001b[0m\n\u001b[0m\u001b[1;32m     27\u001b[0m   \u001b[0mnombres\u001b[0m\u001b[0;34m.\u001b[0m\u001b[0mappend\u001b[0m\u001b[0;34m(\u001b[0m\u001b[0;34m'kNN'\u001b[0m\u001b[0;34m)\u001b[0m\u001b[0;34m\u001b[0m\u001b[0;34m\u001b[0m\u001b[0m\n\u001b[1;32m     28\u001b[0m \u001b[0;34m\u001b[0m\u001b[0m\n",
            "\u001b[0;31mNameError\u001b[0m: name 'KNeighborsClassifier' is not defined"
          ]
        }
      ]
    },
    {
      "cell_type": "markdown",
      "source": [
        "## **Ejercicio 9**"
      ],
      "metadata": {
        "id": "CGRvZ5QmBU5P"
      }
    },
    {
      "cell_type": "markdown",
      "source": [
        "### **De acuerdo a la información de la matriz de costo dada en la documentación del problema, contesta las siguientes preguntas:**\n",
        "\n",
        "### ++++++++ Inicia la sección de agregar texto: +++++++++++\n",
        "\n",
        "a.   ¿Qué error se considera más costoso por parte del banco? ¿FP o FN? Justifica tu respuesta.\n",
        "\n",
        "b.   ¿Cuál o cuál serían entonces las métricas a considerar como más importantes? Justifica tu respuesta.\n",
        "\n",
        "c.   Investiga qué otras métricas se pudieran considerar, de la gran familia de métricas que existen.\n",
        "\n",
        "\n",
        "### ++++++++ Termina la sección de agregar texto. +++++++++++\n"
      ],
      "metadata": {
        "id": "5MeXfRLyIOLa"
      }
    },
    {
      "cell_type": "markdown",
      "source": [
        "## **Ejercicio 10**"
      ],
      "metadata": {
        "id": "4JkGo57zMXqn"
      }
    },
    {
      "cell_type": "code",
      "source": [
        "# Obtener un diagrama de caja y bigotes (boxplot) múltiple de todos los modelos,\n",
        "# utilizando los resultados obtenidos con la métrica que consideraste más importante\n",
        "# en el ejercicio anterior:\n",
        "\n",
        "\n",
        "# ************* Inlcuye aquí tu código:**************************\n",
        "import matplotlib.pyplot as plt\n",
        "\n",
        "# Generación del boxplot\n",
        "fig, ax = plt.subplots()\n",
        "ax.boxplot(resultados.values())\n",
        "ax.set_xticklabels(resultados.keys())\n",
        "ax.set_title('Comparación de Modelos')\n",
        "ax.set_ylabel('Métrica Seleccionada')\n",
        "plt.show()\n",
        "\n",
        "# *********** Aquí termina la sección de agregar código *************\n"
      ],
      "metadata": {
        "id": "DsV2wzymwdyV",
        "colab": {
          "base_uri": "https://localhost:8080/",
          "height": 635
        },
        "outputId": "f7da72a8-7b86-4370-a930-e18f35739403"
      },
      "execution_count": null,
      "outputs": [
        {
          "output_type": "error",
          "ename": "NameError",
          "evalue": "name 'resultados' is not defined",
          "traceback": [
            "\u001b[0;31m---------------------------------------------------------------------------\u001b[0m",
            "\u001b[0;31mNameError\u001b[0m                                 Traceback (most recent call last)",
            "\u001b[0;32m<ipython-input-32-602a2cf41b00>\u001b[0m in \u001b[0;36m<cell line: 11>\u001b[0;34m()\u001b[0m\n\u001b[1;32m      9\u001b[0m \u001b[0;31m# Generación del boxplot\u001b[0m\u001b[0;34m\u001b[0m\u001b[0;34m\u001b[0m\u001b[0m\n\u001b[1;32m     10\u001b[0m \u001b[0mfig\u001b[0m\u001b[0;34m,\u001b[0m \u001b[0max\u001b[0m \u001b[0;34m=\u001b[0m \u001b[0mplt\u001b[0m\u001b[0;34m.\u001b[0m\u001b[0msubplots\u001b[0m\u001b[0;34m(\u001b[0m\u001b[0;34m)\u001b[0m\u001b[0;34m\u001b[0m\u001b[0;34m\u001b[0m\u001b[0m\n\u001b[0;32m---> 11\u001b[0;31m \u001b[0max\u001b[0m\u001b[0;34m.\u001b[0m\u001b[0mboxplot\u001b[0m\u001b[0;34m(\u001b[0m\u001b[0mresultados\u001b[0m\u001b[0;34m.\u001b[0m\u001b[0mvalues\u001b[0m\u001b[0;34m(\u001b[0m\u001b[0;34m)\u001b[0m\u001b[0;34m)\u001b[0m\u001b[0;34m\u001b[0m\u001b[0;34m\u001b[0m\u001b[0m\n\u001b[0m\u001b[1;32m     12\u001b[0m \u001b[0max\u001b[0m\u001b[0;34m.\u001b[0m\u001b[0mset_xticklabels\u001b[0m\u001b[0;34m(\u001b[0m\u001b[0mresultados\u001b[0m\u001b[0;34m.\u001b[0m\u001b[0mkeys\u001b[0m\u001b[0;34m(\u001b[0m\u001b[0;34m)\u001b[0m\u001b[0;34m)\u001b[0m\u001b[0;34m\u001b[0m\u001b[0;34m\u001b[0m\u001b[0m\n\u001b[1;32m     13\u001b[0m \u001b[0max\u001b[0m\u001b[0;34m.\u001b[0m\u001b[0mset_title\u001b[0m\u001b[0;34m(\u001b[0m\u001b[0;34m'Comparación de Modelos'\u001b[0m\u001b[0;34m)\u001b[0m\u001b[0;34m\u001b[0m\u001b[0;34m\u001b[0m\u001b[0m\n",
            "\u001b[0;31mNameError\u001b[0m: name 'resultados' is not defined"
          ]
        },
        {
          "output_type": "display_data",
          "data": {
            "text/plain": [
              "<Figure size 640x480 with 1 Axes>"
            ],
            "image/png": "[encoded data removed]"
          },
          "metadata": {}
        }
      ]
    },
    {
      "cell_type": "markdown",
      "source": [
        "# **Parte III: Modelos con técnicas para clases no balanceadas.**"
      ],
      "metadata": {
        "id": "TPOqRS7pNCNH"
      }
    },
    {
      "cell_type": "markdown",
      "source": [
        "## **Ejercicio 11**"
      ],
      "metadata": {
        "id": "HowUdsf7MqIJ"
      }
    },
    {
      "cell_type": "code",
      "source": [
        "!pip install imbalanced-learn"
      ],
      "metadata": {
        "colab": {
          "base_uri": "https://localhost:8080/"
        },
        "id": "EG08vRRFUHzQ",
        "outputId": "f17096db-f123-492a-98ab-7243fd69cc75"
      },
      "execution_count": null,
      "outputs": [
        {
          "output_type": "stream",
          "name": "stdout",
          "text": [
            "Requirement already satisfied: imbalanced-learn in /usr/local/lib/python3.10/dist-packages (0.10.1)\n",
            "Requirement already satisfied: numpy>=1.17.3 in /usr/local/lib/python3.10/dist-packages (from imbalanced-learn) (1.25.2)\n",
            "Requirement already satisfied: scipy>=1.3.2 in /usr/local/lib/python3.10/dist-packages (from imbalanced-learn) (1.11.4)\n",
            "Requirement already satisfied: scikit-learn>=1.0.2 in /usr/local/lib/python3.10/dist-packages (from imbalanced-learn) (1.2.2)\n",
            "Requirement already satisfied: joblib>=1.1.1 in /usr/local/lib/python3.10/dist-packages (from imbalanced-learn) (1.3.2)\n",
            "Requirement already satisfied: threadpoolctl>=2.0.0 in /usr/local/lib/python3.10/dist-packages (from imbalanced-learn) (3.2.0)\n"
          ]
        }
      ]
    },
    {
      "cell_type": "code",
      "source": [
        "# Selecciona una técnica de sobremuestreo, submuestreo o sobremuestreo+submuestreo para\n",
        "# clases no balanceadas que consideres adecuada, en combinación con los tres mejores modelos\n",
        "# de la Parte II, para entrenar y desplegar todas las métricas que se desplegaron en la Parte II.\n",
        "\n",
        "# ************* Inlcuye aquí tu código:**************************\n",
        "\n",
        "from imblearn.over_sampling import SMOTE\n",
        "from imblearn.pipeline import Pipeline as ImbPipeline\n",
        "from sklearn.metrics import accuracy_score, precision_score, recall_score, f1_score\n",
        "from sklearn.model_selection import cross_val_score, RepeatedStratifiedKFold\n",
        "\n",
        "# Suponiendo que ya has identificado los tres mejores modelos con sus nombres en la lista best_models:\n",
        "# best_models = ['LR', 'RF', 'SVM']  # Ejemplo de modelos seleccionados\n",
        "\n",
        "# Creación de tres mejores modelos con sus parámetros ya definidos\n",
        "top_model_1 = LogisticRegression(penalty='l2', solver='lbfgs', max_iter=1000)\n",
        "top_model_2 = RandomForestClassifier(n_estimators=100, max_depth=5, random_state=1)\n",
        "top_model_3 = SVC(kernel='rbf', C=1.0)\n",
        "\n",
        "# Diccionario para mapear los modelos\n",
        "best_models_dict = {'LR': top_model_1, 'RF': top_model_2, 'SVM': top_model_3}\n",
        "\n",
        "# Técnica de balanceo de clases elegida: SMOTE\n",
        "balancer = SMOTE()\n",
        "\n",
        "# Configuración de la validación cruzada\n",
        "cv = RepeatedStratifiedKFold(n_splits=10, n_repeats=3, random_state=1)\n",
        "\n",
        "# Iterar a través de los modelos seleccionados y desplegar las métricas\n",
        "for model_key in best_models:\n",
        "    # Crear el pipeline que incluye el balanceo de clases y el modelo\n",
        "    model = best_models_dict[model_key]\n",
        "    pipeline = ImbPipeline(steps=[('balancer', balancer), ('model', model)])\n",
        "\n",
        "    # Calcular métricas utilizando validación cruzada\n",
        "    scores_accuracy = cross_val_score(pipeline, Xtrainval, ytrainval, scoring='accuracy', cv=cv, n_jobs=-1)\n",
        "    scores_precision = cross_val_score(pipeline, Xtrainval, ytrainval, scoring='precision', cv=cv, n_jobs=-1)\n",
        "    scores_recall = cross_val_score(pipeline, Xtrainval, ytrainval, scoring='recall', cv=cv, n_jobs=-1)\n",
        "    scores_f1 = cross_val_score(pipeline, Xtrainval, ytrainval, scoring='f1', cv=cv, n_jobs=-1)\n",
        "\n",
        "    # Desplegar las métricas del modelo actual\n",
        "    print(f'Modelo: {model_key}')\n",
        "    print(f'Accuracy promedio: {np.mean(scores_accuracy):.3f}')\n",
        "    print(f'Precision promedio: {np.mean(scores_precision):.3f}')\n",
        "    print(f'Recall promedio: {np.mean(scores_recall):.3f}')\n",
        "    print(f'F1-Score promedio: {np.mean(scores_f1):.3f}')\n",
        "    print()\n",
        "\n",
        "# *********** Aquí termina la sección de agregar código *************"
      ],
      "metadata": {
        "id": "qPGAAAa-Mqr3",
        "colab": {
          "base_uri": "https://localhost:8080/",
          "height": 217
        },
        "outputId": "a9b5cd47-9841-47c0-d170-c5dd4a881cb3"
      },
      "execution_count": null,
      "outputs": [
        {
          "output_type": "error",
          "ename": "NameError",
          "evalue": "name 'LogisticRegression' is not defined",
          "traceback": [
            "\u001b[0;31m---------------------------------------------------------------------------\u001b[0m",
            "\u001b[0;31mNameError\u001b[0m                                 Traceback (most recent call last)",
            "\u001b[0;32m<ipython-input-34-633952a24905>\u001b[0m in \u001b[0;36m<cell line: 16>\u001b[0;34m()\u001b[0m\n\u001b[1;32m     14\u001b[0m \u001b[0;34m\u001b[0m\u001b[0m\n\u001b[1;32m     15\u001b[0m \u001b[0;31m# Creación de tres mejores modelos con sus parámetros ya definidos\u001b[0m\u001b[0;34m\u001b[0m\u001b[0;34m\u001b[0m\u001b[0m\n\u001b[0;32m---> 16\u001b[0;31m \u001b[0mtop_model_1\u001b[0m \u001b[0;34m=\u001b[0m \u001b[0mLogisticRegression\u001b[0m\u001b[0;34m(\u001b[0m\u001b[0mpenalty\u001b[0m\u001b[0;34m=\u001b[0m\u001b[0;34m'l2'\u001b[0m\u001b[0;34m,\u001b[0m \u001b[0msolver\u001b[0m\u001b[0;34m=\u001b[0m\u001b[0;34m'lbfgs'\u001b[0m\u001b[0;34m,\u001b[0m \u001b[0mmax_iter\u001b[0m\u001b[0;34m=\u001b[0m\u001b[0;36m1000\u001b[0m\u001b[0;34m)\u001b[0m\u001b[0;34m\u001b[0m\u001b[0;34m\u001b[0m\u001b[0m\n\u001b[0m\u001b[1;32m     17\u001b[0m \u001b[0mtop_model_2\u001b[0m \u001b[0;34m=\u001b[0m \u001b[0mRandomForestClassifier\u001b[0m\u001b[0;34m(\u001b[0m\u001b[0mn_estimators\u001b[0m\u001b[0;34m=\u001b[0m\u001b[0;36m100\u001b[0m\u001b[0;34m,\u001b[0m \u001b[0mmax_depth\u001b[0m\u001b[0;34m=\u001b[0m\u001b[0;36m5\u001b[0m\u001b[0;34m,\u001b[0m \u001b[0mrandom_state\u001b[0m\u001b[0;34m=\u001b[0m\u001b[0;36m1\u001b[0m\u001b[0;34m)\u001b[0m\u001b[0;34m\u001b[0m\u001b[0;34m\u001b[0m\u001b[0m\n\u001b[1;32m     18\u001b[0m \u001b[0mtop_model_3\u001b[0m \u001b[0;34m=\u001b[0m \u001b[0mSVC\u001b[0m\u001b[0;34m(\u001b[0m\u001b[0mkernel\u001b[0m\u001b[0;34m=\u001b[0m\u001b[0;34m'rbf'\u001b[0m\u001b[0;34m,\u001b[0m \u001b[0mC\u001b[0m\u001b[0;34m=\u001b[0m\u001b[0;36m1.0\u001b[0m\u001b[0;34m)\u001b[0m\u001b[0;34m\u001b[0m\u001b[0;34m\u001b[0m\u001b[0m\n",
            "\u001b[0;31mNameError\u001b[0m: name 'LogisticRegression' is not defined"
          ]
        }
      ]
    },
    {
      "cell_type": "markdown",
      "source": [
        "# **Parte IV: Mejor modelo**"
      ],
      "metadata": {
        "id": "hDV5EpEIRsy4"
      }
    },
    {
      "cell_type": "markdown",
      "source": [
        "## **Ejercicio 12**"
      ],
      "metadata": {
        "id": "PORgZ7b_WTq-"
      }
    },
    {
      "cell_type": "markdown",
      "source": [
        "### **Selecciona y justifica cuál consideras es el mejor modelo que has obtenido hasta ahora.**\n",
        "\n",
        "### ++++++++ Inicia la sección de agregar texto: +++++++++++\n",
        "\n",
        "\n",
        "\n",
        "### ++++++++ Termina la sección de agregar texto. +++++++++++\n"
      ],
      "metadata": {
        "id": "FBSVeSgfWSgn"
      }
    },
    {
      "cell_type": "markdown",
      "source": [
        "## **Ejercicio 13**"
      ],
      "metadata": {
        "id": "slDkvQ37Wtst"
      }
    },
    {
      "cell_type": "code",
      "source": [
        "# Con dicho mejor modelo y utilizando la técnica de validación cruzada, busca\n",
        "# los mejores hiperparámetros de dicho modelo y despliega todas las métricas que\n",
        "#se han estado desplegando. Verifica que tu modelo no esté sobreentrenado e indica\n",
        "# cuáles son los mejores valores obtenidos de los hiperparámetros.\n",
        "\n",
        "\n",
        "# ************* Inlcuye aquí tu código:**************************\n",
        "\n",
        "None\n",
        "\n",
        "# *********** Aquí termina la sección de agregar código *************\n"
      ],
      "metadata": {
        "id": "vMsvBtyaRwiA"
      },
      "execution_count": null,
      "outputs": []
    },
    {
      "cell_type": "markdown",
      "source": [
        "## **Ejercicio 14**"
      ],
      "metadata": {
        "id": "tTVcDuaUXG5N"
      }
    },
    {
      "cell_type": "code",
      "source": [
        "# 14.\tCon el mejor modelo y los mejores hiperparámetros encontrados en el ejercicio anterior,\n",
        "# utiliza ahora (por primera vez en la actividad) el conjunto de prueba (test set) para:\n",
        "\n",
        "# a.\tObtener los valores de todas las métricas que se han estado desplegando.\n",
        "\n",
        "\n",
        "# ************* Inlcuye aquí tu código:**************************\n",
        "\n",
        "None\n",
        "\n",
        "# *********** Aquí termina la sección de agregar código *************\n"
      ],
      "metadata": {
        "id": "ZRZUVESUXQhY"
      },
      "execution_count": null,
      "outputs": []
    },
    {
      "cell_type": "code",
      "source": [
        "# b.\tObtener la matriz de confusión.\n",
        "\n",
        "# ************* Inlcuye aquí tu código:**************************\n",
        "\n",
        "None\n",
        "\n",
        "# *********** Aquí termina la sección de agregar código *************"
      ],
      "metadata": {
        "id": "lBd-VuoAXZZX"
      },
      "execution_count": null,
      "outputs": []
    },
    {
      "cell_type": "code",
      "source": [
        "# c.\tRealiza un análisis de importancia de variables (feature importance) de este\n",
        "# mejor modelo con el conjunto de prueba (test) e incluye tus conclusiones al respecto.\n",
        "\n",
        "# ************* Inlcuye aquí tu código:**************************\n",
        "\n",
        "None\n",
        "\n",
        "# *********** Aquí termina la sección de agregar código *************"
      ],
      "metadata": {
        "id": "Ngslji43XsO_"
      },
      "execution_count": null,
      "outputs": []
    },
    {
      "cell_type": "markdown",
      "source": [
        "## **Ejercicio 15**"
      ],
      "metadata": {
        "id": "AeTAcfFKX3Sm"
      }
    },
    {
      "cell_type": "markdown",
      "source": [
        "### **Escribe tus conclusiones finales de la actividad. En particular puedes comparar tus resultados con los que se muestran en el artículo de la IEEE.**   "
      ],
      "metadata": {
        "id": "n04HnK-ZX4vl"
      }
    },
    {
      "cell_type": "markdown",
      "source": [
        "### ++++++++ Inicia la sección de agregar texto: +++++++++++\n",
        "\n",
        "\n",
        "\n",
        "### ++++++++ Termina la sección de agregar texto. +++++++++++\n"
      ],
      "metadata": {
        "id": "R7s7iDgKYEn9"
      }
    },
    {
      "cell_type": "markdown",
      "source": [
        ">> ###**Fin de la Actividad de las Semanas 5 y 6.**"
      ],
      "metadata": {
        "id": "v-tW_CdUYMdl"
      }
    }
  ]
}